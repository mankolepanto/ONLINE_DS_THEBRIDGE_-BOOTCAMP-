{
 "cells": [
  {
   "cell_type": "code",
   "execution_count": 52,
   "metadata": {},
   "outputs": [],
   "source": [
    "import sys\n",
    "import os\n",
    "import random\n",
    "import numpy as np"
   ]
  },
  {
   "cell_type": "code",
   "execution_count": 62,
   "metadata": {},
   "outputs": [],
   "source": [
    "jugador = \"Iván\"\n",
    "dimension = 10\n",
    "\n",
    "barcos = {\n",
    "    \"barco_1_eslora\" : 4,\n",
    "    \"barco_2_eslora\" : 3,\n",
    "    \"barco_3_eslora\" : 2,\n",
    "    \"barco_4_eslora\" : 1,\n",
    "}\n",
    "\n",
    "#for barco in barcos.values():\n",
    "#    print(barco)"
   ]
  },
  {
   "cell_type": "code",
   "execution_count": 63,
   "metadata": {},
   "outputs": [],
   "source": [
    "class TableroFlota():\n",
    "\n",
    "    # Función de inicialización. Entradas: jugador, dimensión del tablero.\n",
    "    def __init__(self, jugador, dimension_tablero):\n",
    "        self.jugador = jugador\n",
    "        self.dimension = dimension_tablero\n",
    "        self.tablero = np.full((dimension_tablero, dimension_tablero), 0, dtype=int)  # Inicializar el tablero con ceros\n",
    "\n",
    "    def imprimir_tablero(self):\n",
    "        print(\"Tablero de\", self.jugador)\n",
    "        for fila in self.tablero:\n",
    "            for casilla in fila:\n",
    "                print(\"(\", end=\" \")\n",
    "                print(\")\" if casilla == 0 else \"B\", end=\" \")  # Imprimir \")\" para cero y \"O\" para uno\n",
    "            print()  # Imprimir nueva línea después de cada fila\n"
   ]
  },
  {
   "cell_type": "code",
   "execution_count": 64,
   "metadata": {},
   "outputs": [],
   "source": [
    "tablero_jugador = TableroFlota(jugador, dimension)"
   ]
  },
  {
   "cell_type": "code",
   "execution_count": 65,
   "metadata": {},
   "outputs": [
    {
     "name": "stdout",
     "output_type": "stream",
     "text": [
      "Tablero de Iván\n",
      "( ) ( ) ( ) ( ) ( ) ( ) ( ) ( ) ( ) ( ) \n",
      "( ) ( ) ( ) ( ) ( ) ( ) ( ) ( ) ( ) ( ) \n",
      "( ) ( ) ( ) ( ) ( ) ( ) ( ) ( ) ( ) ( ) \n",
      "( ) ( ) ( ) ( ) ( ) ( ) ( ) ( ) ( ) ( ) \n",
      "( ) ( ) ( ) ( ) ( ) ( ) ( ) ( ) ( ) ( ) \n",
      "( ) ( ) ( ) ( ) ( ) ( ) ( ) ( ) ( ) ( ) \n",
      "( ) ( ) ( ) ( ) ( ) ( ) ( ) ( ) ( ) ( ) \n",
      "( ) ( ) ( ) ( ) ( ) ( ) ( ) ( ) ( ) ( ) \n",
      "( ) ( ) ( ) ( ) ( ) ( ) ( ) ( ) ( ) ( ) \n",
      "( ) ( ) ( ) ( ) ( ) ( ) ( ) ( ) ( ) ( ) \n"
     ]
    }
   ],
   "source": [
    "tablero_jugador.imprimir_tablero()"
   ]
  },
  {
   "cell_type": "code",
   "execution_count": 70,
   "metadata": {},
   "outputs": [],
   "source": [
    "def agregar_barco(tablero, tamano_barco): # esta es la variable principal\n",
    "    direccion = random.choice(['norte', 'sur', 'este', 'oeste']) #Elige una dirección aleatoria para colocar el barco.\n",
    "    if direccion == 'norte':\n",
    "        fila_inicio = random.randint(tamano_barco - 1, len(tablero) - 1)\n",
    "        columna_inicio = random.randint(0, len(tablero[0]) - 1)\n",
    "        if fila_inicio - tamano_barco + 1 >= 0:\n",
    "            for i in range(fila_inicio, fila_inicio - tamano_barco, -1):\n",
    "                if tablero[i][columna_inicio] != \" \":\n",
    "                    return False\n",
    "            for i in range(fila_inicio, fila_inicio - tamano_barco, -1):\n",
    "                tablero[i][columna_inicio] = \"B\"\n",
    "            return True\n",
    "        \n",
    "    elif direccion == 'sur':\n",
    "        fila_inicio = random.randint(0, len(tablero) - tamano_barco)\n",
    "        columna_inicio = random.randint(0, len(tablero[0]) - 1)\n",
    "        if fila_inicio + tamano_barco <= len(tablero):\n",
    "            for i in range(fila_inicio, fila_inicio + tamano_barco):\n",
    "                if tablero[i][columna_inicio] != \" \":\n",
    "                    return False\n",
    "            for i in range(fila_inicio, fila_inicio + tamano_barco):\n",
    "                tablero[i][columna_inicio] = \"B\"\n",
    "            return True\n",
    "        \n",
    "    elif direccion == 'este':\n",
    "        fila_inicio = random.randint(0, len(tablero) - 1)\n",
    "        columna_inicio = random.randint(0, len(tablero[0]) - tamano_barco)\n",
    "        if columna_inicio + tamano_barco <= len(tablero[0]):\n",
    "            for i in range(columna_inicio, columna_inicio + tamano_barco):\n",
    "                if tablero[fila_inicio][i] != \" \":\n",
    "                    return False\n",
    "            for i in range(columna_inicio, columna_inicio + tamano_barco):\n",
    "                tablero[fila_inicio][i] = \"B\"\n",
    "            return True\n",
    "        \n",
    "    elif direccion == 'oeste':\n",
    "        fila_inicio = random.randint(0, len(tablero) - 1)\n",
    "        columna_inicio = random.randint(tamano_barco - 1, len(tablero[0]) - 1)\n",
    "        if columna_inicio - tamano_barco + 1 >= 0:\n",
    "            for i in range(columna_inicio, columna_inicio - tamano_barco, -1):\n",
    "                if tablero[fila_inicio][i] != \" \":\n",
    "                    return False\n",
    "            for i in range(columna_inicio, columna_inicio - tamano_barco, -1):\n",
    "                tablero[fila_inicio][i] = \"B\"\n",
    "            return True\n",
    "\n",
    "'''\n",
    "Función colocar barcos: recorre los valores del diccionario de barcos para colocarlos todos en el tablero del jugador o máquina.\n",
    "'''\n",
    "def colocar_barcos(tablero, barcos):\n",
    "    for barco in barcos.values():\n",
    "        agregar_barco(tablero, barco) "
   ]
  },
  {
   "cell_type": "code",
   "execution_count": 71,
   "metadata": {},
   "outputs": [
    {
     "ename": "TypeError",
     "evalue": "'TableroFlota' object is not subscriptable",
     "output_type": "error",
     "traceback": [
      "\u001b[0;31m---------------------------------------------------------------------------\u001b[0m",
      "\u001b[0;31mTypeError\u001b[0m                                 Traceback (most recent call last)",
      "Cell \u001b[0;32mIn[71], line 1\u001b[0m\n\u001b[0;32m----> 1\u001b[0m \u001b[43mcolocar_barcos\u001b[49m\u001b[43m(\u001b[49m\u001b[43mtablero_jugador\u001b[49m\u001b[43m,\u001b[49m\u001b[43m \u001b[49m\u001b[43mbarcos\u001b[49m\u001b[43m)\u001b[49m\n",
      "Cell \u001b[0;32mIn[70], line 52\u001b[0m, in \u001b[0;36mcolocar_barcos\u001b[0;34m(tablero, barcos)\u001b[0m\n\u001b[1;32m     50\u001b[0m \u001b[38;5;28;01mdef\u001b[39;00m \u001b[38;5;21mcolocar_barcos\u001b[39m(tablero, barcos):\n\u001b[1;32m     51\u001b[0m     \u001b[38;5;28;01mfor\u001b[39;00m barco \u001b[38;5;129;01min\u001b[39;00m barcos\u001b[38;5;241m.\u001b[39mvalues():\n\u001b[0;32m---> 52\u001b[0m         \u001b[43magregar_barco\u001b[49m\u001b[43m(\u001b[49m\u001b[43mtablero\u001b[49m\u001b[43m,\u001b[49m\u001b[43m \u001b[49m\u001b[43mbarco\u001b[49m\u001b[43m)\u001b[49m\n",
      "Cell \u001b[0;32mIn[70], line 8\u001b[0m, in \u001b[0;36magregar_barco\u001b[0;34m(tablero, tamano_barco)\u001b[0m\n\u001b[1;32m      6\u001b[0m \u001b[38;5;28;01mif\u001b[39;00m fila_inicio \u001b[38;5;241m-\u001b[39m tamano_barco \u001b[38;5;241m+\u001b[39m \u001b[38;5;241m1\u001b[39m \u001b[38;5;241m>\u001b[39m\u001b[38;5;241m=\u001b[39m \u001b[38;5;241m0\u001b[39m:\n\u001b[1;32m      7\u001b[0m     \u001b[38;5;28;01mfor\u001b[39;00m i \u001b[38;5;129;01min\u001b[39;00m \u001b[38;5;28mrange\u001b[39m(fila_inicio, fila_inicio \u001b[38;5;241m-\u001b[39m tamano_barco, \u001b[38;5;241m-\u001b[39m\u001b[38;5;241m1\u001b[39m):\n\u001b[0;32m----> 8\u001b[0m         \u001b[38;5;28;01mif\u001b[39;00m \u001b[43mtablero\u001b[49m\u001b[43m[\u001b[49m\u001b[43mi\u001b[49m\u001b[43m]\u001b[49m[columna_inicio] \u001b[38;5;241m!=\u001b[39m \u001b[38;5;124m\"\u001b[39m\u001b[38;5;124m \u001b[39m\u001b[38;5;124m\"\u001b[39m:\n\u001b[1;32m      9\u001b[0m             \u001b[38;5;28;01mreturn\u001b[39;00m \u001b[38;5;28;01mFalse\u001b[39;00m\n\u001b[1;32m     10\u001b[0m     \u001b[38;5;28;01mfor\u001b[39;00m i \u001b[38;5;129;01min\u001b[39;00m \u001b[38;5;28mrange\u001b[39m(fila_inicio, fila_inicio \u001b[38;5;241m-\u001b[39m tamano_barco, \u001b[38;5;241m-\u001b[39m\u001b[38;5;241m1\u001b[39m):\n",
      "\u001b[0;31mTypeError\u001b[0m: 'TableroFlota' object is not subscriptable"
     ]
    }
   ],
   "source": [
    "colocar_barcos(tablero_jugador, barcos)"
   ]
  },
  {
   "cell_type": "code",
   "execution_count": null,
   "metadata": {},
   "outputs": [],
   "source": []
  }
 ],
 "metadata": {
  "kernelspec": {
   "display_name": "Python 3",
   "language": "python",
   "name": "python3"
  },
  "language_info": {
   "codemirror_mode": {
    "name": "ipython",
    "version": 3
   },
   "file_extension": ".py",
   "mimetype": "text/x-python",
   "name": "python",
   "nbconvert_exporter": "python",
   "pygments_lexer": "ipython3",
   "version": "3.11.5"
  }
 },
 "nbformat": 4,
 "nbformat_minor": 2
}
