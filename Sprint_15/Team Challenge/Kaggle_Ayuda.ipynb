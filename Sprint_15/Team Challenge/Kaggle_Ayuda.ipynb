{
 "cells": [
  {
   "cell_type": "markdown",
   "metadata": {},
   "source": [
    "#### Aquí encontrarás todo lo que necesitas saber: https://www.kaggle.com/competitions/desafio-de-prediccion-de-precios-de-portatiles"
   ]
  },
  {
   "cell_type": "markdown",
   "metadata": {},
   "source": [
    "## Librerias"
   ]
  },
  {
   "cell_type": "code",
   "execution_count": 52,
   "metadata": {},
   "outputs": [],
   "source": [
    "import pandas as pd\n",
    "import numpy as np\n",
    "import matplotlib.pyplot as plt\n",
    "import seaborn as sns\n",
    "import ToolBox as TB\n",
    "import re\n",
    "\n",
    "from sklearn import metrics\n",
    "from sklearn.model_selection import train_test_split\n",
    "from sklearn.preprocessing import StandardScaler\n",
    "from sklearn.linear_model import LinearRegression, Ridge, Lasso, ElasticNet"
   ]
  },
  {
   "cell_type": "markdown",
   "metadata": {},
   "source": [
    "## Data"
   ]
  },
  {
   "cell_type": "code",
   "execution_count": 53,
   "metadata": {},
   "outputs": [],
   "source": [
    "### Para que funcione necesitas bajarte los archivos de datos de Kaggle \n",
    "df_train = pd.read_csv ('Data/train.csv')\n",
    "df_test = pd.read_csv ('Data/test.csv')"
   ]
  },
  {
   "cell_type": "code",
   "execution_count": 54,
   "metadata": {},
   "outputs": [
    {
     "name": "stdout",
     "output_type": "stream",
     "text": [
      "(912, 14)\n",
      "(391, 13)\n"
     ]
    }
   ],
   "source": [
    "print (df_train.shape)\n",
    "print (df_test.shape)"
   ]
  },
  {
   "cell_type": "markdown",
   "metadata": {},
   "source": [
    "## Data exploration"
   ]
  },
  {
   "cell_type": "code",
   "execution_count": 55,
   "metadata": {},
   "outputs": [
    {
     "name": "stdout",
     "output_type": "stream",
     "text": [
      "<class 'pandas.core.frame.DataFrame'>\n",
      "RangeIndex: 912 entries, 0 to 911\n",
      "Data columns (total 14 columns):\n",
      " #   Column            Non-Null Count  Dtype  \n",
      "---  ------            --------------  -----  \n",
      " 0   id                912 non-null    int64  \n",
      " 1   laptop_ID         912 non-null    int64  \n",
      " 2   Company           912 non-null    object \n",
      " 3   Product           912 non-null    object \n",
      " 4   TypeName          912 non-null    object \n",
      " 5   Inches            912 non-null    float64\n",
      " 6   ScreenResolution  912 non-null    object \n",
      " 7   Cpu               912 non-null    object \n",
      " 8   Ram               912 non-null    object \n",
      " 9   Memory            912 non-null    object \n",
      " 10  Gpu               912 non-null    object \n",
      " 11  OpSys             912 non-null    object \n",
      " 12  Weight            912 non-null    object \n",
      " 13  Price_euros       912 non-null    float64\n",
      "dtypes: float64(2), int64(2), object(10)\n",
      "memory usage: 99.9+ KB\n"
     ]
    }
   ],
   "source": [
    "df_train.info ()"
   ]
  },
  {
   "cell_type": "code",
   "execution_count": 56,
   "metadata": {},
   "outputs": [
    {
     "name": "stdout",
     "output_type": "stream",
     "text": [
      "<class 'pandas.core.frame.DataFrame'>\n",
      "RangeIndex: 391 entries, 0 to 390\n",
      "Data columns (total 13 columns):\n",
      " #   Column            Non-Null Count  Dtype  \n",
      "---  ------            --------------  -----  \n",
      " 0   id                391 non-null    int64  \n",
      " 1   laptop_ID         391 non-null    int64  \n",
      " 2   Company           391 non-null    object \n",
      " 3   Product           391 non-null    object \n",
      " 4   TypeName          391 non-null    object \n",
      " 5   Inches            391 non-null    float64\n",
      " 6   ScreenResolution  391 non-null    object \n",
      " 7   Cpu               391 non-null    object \n",
      " 8   Ram               391 non-null    object \n",
      " 9   Memory            391 non-null    object \n",
      " 10  Gpu               391 non-null    object \n",
      " 11  OpSys             391 non-null    object \n",
      " 12  Weight            391 non-null    object \n",
      "dtypes: float64(1), int64(2), object(10)\n",
      "memory usage: 39.8+ KB\n"
     ]
    }
   ],
   "source": [
    "df_test.info ()"
   ]
  },
  {
   "cell_type": "code",
   "execution_count": 57,
   "metadata": {},
   "outputs": [
    {
     "data": {
      "text/html": [
       "<div>\n",
       "<style scoped>\n",
       "    .dataframe tbody tr th:only-of-type {\n",
       "        vertical-align: middle;\n",
       "    }\n",
       "\n",
       "    .dataframe tbody tr th {\n",
       "        vertical-align: top;\n",
       "    }\n",
       "\n",
       "    .dataframe thead th {\n",
       "        text-align: right;\n",
       "    }\n",
       "</style>\n",
       "<table border=\"1\" class=\"dataframe\">\n",
       "  <thead>\n",
       "    <tr style=\"text-align: right;\">\n",
       "      <th></th>\n",
       "      <th>id</th>\n",
       "      <th>laptop_ID</th>\n",
       "      <th>Inches</th>\n",
       "      <th>Price_euros</th>\n",
       "    </tr>\n",
       "  </thead>\n",
       "  <tbody>\n",
       "    <tr>\n",
       "      <th>count</th>\n",
       "      <td>912.000000</td>\n",
       "      <td>912.000000</td>\n",
       "      <td>912.000000</td>\n",
       "      <td>912.000000</td>\n",
       "    </tr>\n",
       "    <tr>\n",
       "      <th>mean</th>\n",
       "      <td>645.091009</td>\n",
       "      <td>666.192982</td>\n",
       "      <td>15.011404</td>\n",
       "      <td>1108.122873</td>\n",
       "    </tr>\n",
       "    <tr>\n",
       "      <th>std</th>\n",
       "      <td>380.313813</td>\n",
       "      <td>384.873846</td>\n",
       "      <td>1.411744</td>\n",
       "      <td>714.597741</td>\n",
       "    </tr>\n",
       "    <tr>\n",
       "      <th>min</th>\n",
       "      <td>0.000000</td>\n",
       "      <td>1.000000</td>\n",
       "      <td>10.100000</td>\n",
       "      <td>174.000000</td>\n",
       "    </tr>\n",
       "    <tr>\n",
       "      <th>25%</th>\n",
       "      <td>319.750000</td>\n",
       "      <td>330.500000</td>\n",
       "      <td>14.000000</td>\n",
       "      <td>589.000000</td>\n",
       "    </tr>\n",
       "    <tr>\n",
       "      <th>50%</th>\n",
       "      <td>636.500000</td>\n",
       "      <td>673.500000</td>\n",
       "      <td>15.600000</td>\n",
       "      <td>949.000000</td>\n",
       "    </tr>\n",
       "    <tr>\n",
       "      <th>75%</th>\n",
       "      <td>980.250000</td>\n",
       "      <td>998.500000</td>\n",
       "      <td>15.600000</td>\n",
       "      <td>1458.500000</td>\n",
       "    </tr>\n",
       "    <tr>\n",
       "      <th>max</th>\n",
       "      <td>1302.000000</td>\n",
       "      <td>1320.000000</td>\n",
       "      <td>18.400000</td>\n",
       "      <td>6099.000000</td>\n",
       "    </tr>\n",
       "  </tbody>\n",
       "</table>\n",
       "</div>"
      ],
      "text/plain": [
       "                id    laptop_ID      Inches  Price_euros\n",
       "count   912.000000   912.000000  912.000000   912.000000\n",
       "mean    645.091009   666.192982   15.011404  1108.122873\n",
       "std     380.313813   384.873846    1.411744   714.597741\n",
       "min       0.000000     1.000000   10.100000   174.000000\n",
       "25%     319.750000   330.500000   14.000000   589.000000\n",
       "50%     636.500000   673.500000   15.600000   949.000000\n",
       "75%     980.250000   998.500000   15.600000  1458.500000\n",
       "max    1302.000000  1320.000000   18.400000  6099.000000"
      ]
     },
     "execution_count": 57,
     "metadata": {},
     "output_type": "execute_result"
    }
   ],
   "source": [
    "df_train.describe ()"
   ]
  },
  {
   "cell_type": "code",
   "execution_count": 58,
   "metadata": {},
   "outputs": [
    {
     "data": {
      "text/html": [
       "<div>\n",
       "<style scoped>\n",
       "    .dataframe tbody tr th:only-of-type {\n",
       "        vertical-align: middle;\n",
       "    }\n",
       "\n",
       "    .dataframe tbody tr th {\n",
       "        vertical-align: top;\n",
       "    }\n",
       "\n",
       "    .dataframe thead th {\n",
       "        text-align: right;\n",
       "    }\n",
       "</style>\n",
       "<table border=\"1\" class=\"dataframe\">\n",
       "  <thead>\n",
       "    <tr style=\"text-align: right;\">\n",
       "      <th></th>\n",
       "      <th>id</th>\n",
       "      <th>laptop_ID</th>\n",
       "      <th>Company</th>\n",
       "      <th>Product</th>\n",
       "      <th>TypeName</th>\n",
       "      <th>Inches</th>\n",
       "      <th>ScreenResolution</th>\n",
       "      <th>Cpu</th>\n",
       "      <th>Ram</th>\n",
       "      <th>Memory</th>\n",
       "      <th>Gpu</th>\n",
       "      <th>OpSys</th>\n",
       "      <th>Weight</th>\n",
       "      <th>Price_euros</th>\n",
       "    </tr>\n",
       "  </thead>\n",
       "  <tbody>\n",
       "    <tr>\n",
       "      <th>0</th>\n",
       "      <td>268</td>\n",
       "      <td>1002</td>\n",
       "      <td>Dell</td>\n",
       "      <td>Inspiron 5567</td>\n",
       "      <td>Notebook</td>\n",
       "      <td>15.6</td>\n",
       "      <td>1366x768</td>\n",
       "      <td>Intel Core i7 7500U 2.7GHz</td>\n",
       "      <td>8GB</td>\n",
       "      <td>1TB HDD</td>\n",
       "      <td>AMD Radeon R7 M445</td>\n",
       "      <td>Windows 10</td>\n",
       "      <td>2.36kg</td>\n",
       "      <td>749.00</td>\n",
       "    </tr>\n",
       "    <tr>\n",
       "      <th>1</th>\n",
       "      <td>347</td>\n",
       "      <td>867</td>\n",
       "      <td>Asus</td>\n",
       "      <td>X541NA (N4200/4GB/1TB/W10)</td>\n",
       "      <td>Notebook</td>\n",
       "      <td>15.6</td>\n",
       "      <td>1366x768</td>\n",
       "      <td>Intel Pentium Quad Core N4200 1.1GHz</td>\n",
       "      <td>4GB</td>\n",
       "      <td>1TB HDD</td>\n",
       "      <td>Intel HD Graphics 505</td>\n",
       "      <td>Windows 10</td>\n",
       "      <td>2kg</td>\n",
       "      <td>449.00</td>\n",
       "    </tr>\n",
       "    <tr>\n",
       "      <th>2</th>\n",
       "      <td>353</td>\n",
       "      <td>966</td>\n",
       "      <td>Toshiba</td>\n",
       "      <td>Portege Z30-C-1CW</td>\n",
       "      <td>Notebook</td>\n",
       "      <td>13.3</td>\n",
       "      <td>Full HD 1920x1080</td>\n",
       "      <td>Intel Core i5 6200U 2.3GHz</td>\n",
       "      <td>8GB</td>\n",
       "      <td>256GB SSD</td>\n",
       "      <td>Intel HD Graphics 520</td>\n",
       "      <td>Windows 7</td>\n",
       "      <td>1.2kg</td>\n",
       "      <td>1460.00</td>\n",
       "    </tr>\n",
       "    <tr>\n",
       "      <th>3</th>\n",
       "      <td>578</td>\n",
       "      <td>767</td>\n",
       "      <td>Dell</td>\n",
       "      <td>Alienware 17</td>\n",
       "      <td>Gaming</td>\n",
       "      <td>15.6</td>\n",
       "      <td>IPS Panel 4K Ultra HD 3840x2160</td>\n",
       "      <td>Intel Core i7 7700HQ 2.8GHz</td>\n",
       "      <td>16GB</td>\n",
       "      <td>256GB SSD +  1TB HDD</td>\n",
       "      <td>Nvidia GeForce GTX 1070</td>\n",
       "      <td>Windows 10</td>\n",
       "      <td>4.42kg</td>\n",
       "      <td>2868.99</td>\n",
       "    </tr>\n",
       "    <tr>\n",
       "      <th>4</th>\n",
       "      <td>42</td>\n",
       "      <td>1241</td>\n",
       "      <td>Dell</td>\n",
       "      <td>Latitude E7270</td>\n",
       "      <td>Ultrabook</td>\n",
       "      <td>12.5</td>\n",
       "      <td>Full HD / Touchscreen 1920x1080</td>\n",
       "      <td>Intel Core i5 6300U 2.4GHz</td>\n",
       "      <td>8GB</td>\n",
       "      <td>256GB SSD</td>\n",
       "      <td>Intel HD Graphics 520</td>\n",
       "      <td>Windows 7</td>\n",
       "      <td>1.26kg</td>\n",
       "      <td>1713.37</td>\n",
       "    </tr>\n",
       "  </tbody>\n",
       "</table>\n",
       "</div>"
      ],
      "text/plain": [
       "    id  laptop_ID  Company                     Product   TypeName  Inches  \\\n",
       "0  268       1002     Dell               Inspiron 5567   Notebook    15.6   \n",
       "1  347        867     Asus  X541NA (N4200/4GB/1TB/W10)   Notebook    15.6   \n",
       "2  353        966  Toshiba           Portege Z30-C-1CW   Notebook    13.3   \n",
       "3  578        767     Dell                Alienware 17     Gaming    15.6   \n",
       "4   42       1241     Dell              Latitude E7270  Ultrabook    12.5   \n",
       "\n",
       "                  ScreenResolution                                   Cpu  \\\n",
       "0                         1366x768            Intel Core i7 7500U 2.7GHz   \n",
       "1                         1366x768  Intel Pentium Quad Core N4200 1.1GHz   \n",
       "2                Full HD 1920x1080            Intel Core i5 6200U 2.3GHz   \n",
       "3  IPS Panel 4K Ultra HD 3840x2160           Intel Core i7 7700HQ 2.8GHz   \n",
       "4  Full HD / Touchscreen 1920x1080            Intel Core i5 6300U 2.4GHz   \n",
       "\n",
       "    Ram                Memory                      Gpu       OpSys  Weight  \\\n",
       "0   8GB               1TB HDD       AMD Radeon R7 M445  Windows 10  2.36kg   \n",
       "1   4GB               1TB HDD    Intel HD Graphics 505  Windows 10     2kg   \n",
       "2   8GB             256GB SSD    Intel HD Graphics 520   Windows 7   1.2kg   \n",
       "3  16GB  256GB SSD +  1TB HDD  Nvidia GeForce GTX 1070  Windows 10  4.42kg   \n",
       "4   8GB             256GB SSD    Intel HD Graphics 520   Windows 7  1.26kg   \n",
       "\n",
       "   Price_euros  \n",
       "0       749.00  \n",
       "1       449.00  \n",
       "2      1460.00  \n",
       "3      2868.99  \n",
       "4      1713.37  "
      ]
     },
     "execution_count": 58,
     "metadata": {},
     "output_type": "execute_result"
    }
   ],
   "source": [
    "df_train.head ()"
   ]
  },
  {
   "cell_type": "code",
   "execution_count": 59,
   "metadata": {},
   "outputs": [
    {
     "data": {
      "text/html": [
       "<div>\n",
       "<style scoped>\n",
       "    .dataframe tbody tr th:only-of-type {\n",
       "        vertical-align: middle;\n",
       "    }\n",
       "\n",
       "    .dataframe tbody tr th {\n",
       "        vertical-align: top;\n",
       "    }\n",
       "\n",
       "    .dataframe thead th {\n",
       "        text-align: right;\n",
       "    }\n",
       "</style>\n",
       "<table border=\"1\" class=\"dataframe\">\n",
       "  <thead>\n",
       "    <tr style=\"text-align: right;\">\n",
       "      <th></th>\n",
       "      <th>id</th>\n",
       "      <th>laptop_ID</th>\n",
       "      <th>Company</th>\n",
       "      <th>Product</th>\n",
       "      <th>TypeName</th>\n",
       "      <th>Inches</th>\n",
       "      <th>ScreenResolution</th>\n",
       "      <th>Cpu</th>\n",
       "      <th>Ram</th>\n",
       "      <th>Memory</th>\n",
       "      <th>Gpu</th>\n",
       "      <th>OpSys</th>\n",
       "      <th>Weight</th>\n",
       "      <th>Price_euros</th>\n",
       "    </tr>\n",
       "  </thead>\n",
       "  <tbody>\n",
       "    <tr>\n",
       "      <th>DATA_TYPE</th>\n",
       "      <td>int64</td>\n",
       "      <td>int64</td>\n",
       "      <td>object</td>\n",
       "      <td>object</td>\n",
       "      <td>object</td>\n",
       "      <td>float64</td>\n",
       "      <td>object</td>\n",
       "      <td>object</td>\n",
       "      <td>object</td>\n",
       "      <td>object</td>\n",
       "      <td>object</td>\n",
       "      <td>object</td>\n",
       "      <td>object</td>\n",
       "      <td>float64</td>\n",
       "    </tr>\n",
       "    <tr>\n",
       "      <th>MISSINGS (%)</th>\n",
       "      <td>0.0</td>\n",
       "      <td>0.0</td>\n",
       "      <td>0.0</td>\n",
       "      <td>0.0</td>\n",
       "      <td>0.0</td>\n",
       "      <td>0.0</td>\n",
       "      <td>0.0</td>\n",
       "      <td>0.0</td>\n",
       "      <td>0.0</td>\n",
       "      <td>0.0</td>\n",
       "      <td>0.0</td>\n",
       "      <td>0.0</td>\n",
       "      <td>0.0</td>\n",
       "      <td>0.0</td>\n",
       "    </tr>\n",
       "    <tr>\n",
       "      <th>UNIQUE_VALUES</th>\n",
       "      <td>912</td>\n",
       "      <td>912</td>\n",
       "      <td>19</td>\n",
       "      <td>475</td>\n",
       "      <td>6</td>\n",
       "      <td>15</td>\n",
       "      <td>35</td>\n",
       "      <td>104</td>\n",
       "      <td>8</td>\n",
       "      <td>36</td>\n",
       "      <td>91</td>\n",
       "      <td>9</td>\n",
       "      <td>158</td>\n",
       "      <td>614</td>\n",
       "    </tr>\n",
       "    <tr>\n",
       "      <th>CARDIN (%)</th>\n",
       "      <td>100.0</td>\n",
       "      <td>100.0</td>\n",
       "      <td>2.08</td>\n",
       "      <td>52.08</td>\n",
       "      <td>0.66</td>\n",
       "      <td>1.64</td>\n",
       "      <td>3.84</td>\n",
       "      <td>11.4</td>\n",
       "      <td>0.88</td>\n",
       "      <td>3.95</td>\n",
       "      <td>9.98</td>\n",
       "      <td>0.99</td>\n",
       "      <td>17.32</td>\n",
       "      <td>67.32</td>\n",
       "    </tr>\n",
       "  </tbody>\n",
       "</table>\n",
       "</div>"
      ],
      "text/plain": [
       "                  id laptop_ID Company Product TypeName   Inches  \\\n",
       "DATA_TYPE      int64     int64  object  object   object  float64   \n",
       "MISSINGS (%)     0.0       0.0     0.0     0.0      0.0      0.0   \n",
       "UNIQUE_VALUES    912       912      19     475        6       15   \n",
       "CARDIN (%)     100.0     100.0    2.08   52.08     0.66     1.64   \n",
       "\n",
       "              ScreenResolution     Cpu     Ram  Memory     Gpu   OpSys  \\\n",
       "DATA_TYPE               object  object  object  object  object  object   \n",
       "MISSINGS (%)               0.0     0.0     0.0     0.0     0.0     0.0   \n",
       "UNIQUE_VALUES               35     104       8      36      91       9   \n",
       "CARDIN (%)                3.84    11.4    0.88    3.95    9.98    0.99   \n",
       "\n",
       "               Weight Price_euros  \n",
       "DATA_TYPE      object     float64  \n",
       "MISSINGS (%)      0.0         0.0  \n",
       "UNIQUE_VALUES     158         614  \n",
       "CARDIN (%)      17.32       67.32  "
      ]
     },
     "execution_count": 59,
     "metadata": {},
     "output_type": "execute_result"
    }
   ],
   "source": [
    "TB.describe_df (df_train)"
   ]
  },
  {
   "cell_type": "code",
   "execution_count": 60,
   "metadata": {},
   "outputs": [
    {
     "data": {
      "text/html": [
       "<div>\n",
       "<style scoped>\n",
       "    .dataframe tbody tr th:only-of-type {\n",
       "        vertical-align: middle;\n",
       "    }\n",
       "\n",
       "    .dataframe tbody tr th {\n",
       "        vertical-align: top;\n",
       "    }\n",
       "\n",
       "    .dataframe thead th {\n",
       "        text-align: right;\n",
       "    }\n",
       "</style>\n",
       "<table border=\"1\" class=\"dataframe\">\n",
       "  <thead>\n",
       "    <tr style=\"text-align: right;\">\n",
       "      <th></th>\n",
       "      <th>nombre_variable</th>\n",
       "      <th>tipo_sugerido</th>\n",
       "    </tr>\n",
       "  </thead>\n",
       "  <tbody>\n",
       "    <tr>\n",
       "      <th>0</th>\n",
       "      <td>id</td>\n",
       "      <td>Numérica Continua</td>\n",
       "    </tr>\n",
       "    <tr>\n",
       "      <th>1</th>\n",
       "      <td>laptop_ID</td>\n",
       "      <td>Numérica Continua</td>\n",
       "    </tr>\n",
       "    <tr>\n",
       "      <th>2</th>\n",
       "      <td>Company</td>\n",
       "      <td>Numérica Discreta</td>\n",
       "    </tr>\n",
       "    <tr>\n",
       "      <th>3</th>\n",
       "      <td>Product</td>\n",
       "      <td>Numérica Continua</td>\n",
       "    </tr>\n",
       "    <tr>\n",
       "      <th>4</th>\n",
       "      <td>TypeName</td>\n",
       "      <td>Categórica</td>\n",
       "    </tr>\n",
       "    <tr>\n",
       "      <th>5</th>\n",
       "      <td>Inches</td>\n",
       "      <td>Numérica Discreta</td>\n",
       "    </tr>\n",
       "    <tr>\n",
       "      <th>6</th>\n",
       "      <td>ScreenResolution</td>\n",
       "      <td>Numérica Discreta</td>\n",
       "    </tr>\n",
       "    <tr>\n",
       "      <th>7</th>\n",
       "      <td>Cpu</td>\n",
       "      <td>Numérica Discreta</td>\n",
       "    </tr>\n",
       "    <tr>\n",
       "      <th>8</th>\n",
       "      <td>Ram</td>\n",
       "      <td>Categórica</td>\n",
       "    </tr>\n",
       "    <tr>\n",
       "      <th>9</th>\n",
       "      <td>Memory</td>\n",
       "      <td>Numérica Discreta</td>\n",
       "    </tr>\n",
       "    <tr>\n",
       "      <th>10</th>\n",
       "      <td>Gpu</td>\n",
       "      <td>Numérica Discreta</td>\n",
       "    </tr>\n",
       "    <tr>\n",
       "      <th>11</th>\n",
       "      <td>OpSys</td>\n",
       "      <td>Categórica</td>\n",
       "    </tr>\n",
       "    <tr>\n",
       "      <th>12</th>\n",
       "      <td>Weight</td>\n",
       "      <td>Numérica Discreta</td>\n",
       "    </tr>\n",
       "    <tr>\n",
       "      <th>13</th>\n",
       "      <td>Price_euros</td>\n",
       "      <td>Numérica Continua</td>\n",
       "    </tr>\n",
       "  </tbody>\n",
       "</table>\n",
       "</div>"
      ],
      "text/plain": [
       "     nombre_variable      tipo_sugerido\n",
       "0                 id  Numérica Continua\n",
       "1          laptop_ID  Numérica Continua\n",
       "2            Company  Numérica Discreta\n",
       "3            Product  Numérica Continua\n",
       "4           TypeName         Categórica\n",
       "5             Inches  Numérica Discreta\n",
       "6   ScreenResolution  Numérica Discreta\n",
       "7                Cpu  Numérica Discreta\n",
       "8                Ram         Categórica\n",
       "9             Memory  Numérica Discreta\n",
       "10               Gpu  Numérica Discreta\n",
       "11             OpSys         Categórica\n",
       "12            Weight  Numérica Discreta\n",
       "13       Price_euros  Numérica Continua"
      ]
     },
     "execution_count": 60,
     "metadata": {},
     "output_type": "execute_result"
    }
   ],
   "source": [
    "TB.tipifica_variables (df_train, 10, 30)"
   ]
  },
  {
   "cell_type": "code",
   "execution_count": 61,
   "metadata": {},
   "outputs": [
    {
     "data": {
      "text/html": [
       "<div>\n",
       "<style scoped>\n",
       "    .dataframe tbody tr th:only-of-type {\n",
       "        vertical-align: middle;\n",
       "    }\n",
       "\n",
       "    .dataframe tbody tr th {\n",
       "        vertical-align: top;\n",
       "    }\n",
       "\n",
       "    .dataframe thead th {\n",
       "        text-align: right;\n",
       "    }\n",
       "</style>\n",
       "<table border=\"1\" class=\"dataframe\">\n",
       "  <thead>\n",
       "    <tr style=\"text-align: right;\">\n",
       "      <th></th>\n",
       "      <th>id</th>\n",
       "      <th>laptop_ID</th>\n",
       "      <th>Company</th>\n",
       "      <th>Product</th>\n",
       "      <th>TypeName</th>\n",
       "      <th>Inches</th>\n",
       "      <th>ScreenResolution</th>\n",
       "      <th>Cpu</th>\n",
       "      <th>Ram</th>\n",
       "      <th>Memory</th>\n",
       "      <th>Gpu</th>\n",
       "      <th>OpSys</th>\n",
       "      <th>Weight</th>\n",
       "      <th>Price_euros</th>\n",
       "    </tr>\n",
       "  </thead>\n",
       "  <tbody>\n",
       "    <tr>\n",
       "      <th>0</th>\n",
       "      <td>268</td>\n",
       "      <td>1002</td>\n",
       "      <td>Dell</td>\n",
       "      <td>Inspiron 5567</td>\n",
       "      <td>Notebook</td>\n",
       "      <td>15.6</td>\n",
       "      <td>1366x768</td>\n",
       "      <td>Intel Core i7 7500U 2.7GHz</td>\n",
       "      <td>8GB</td>\n",
       "      <td>1TB HDD</td>\n",
       "      <td>AMD Radeon R7 M445</td>\n",
       "      <td>Windows 10</td>\n",
       "      <td>2.36kg</td>\n",
       "      <td>749.00</td>\n",
       "    </tr>\n",
       "    <tr>\n",
       "      <th>1</th>\n",
       "      <td>347</td>\n",
       "      <td>867</td>\n",
       "      <td>Asus</td>\n",
       "      <td>X541NA (N4200/4GB/1TB/W10)</td>\n",
       "      <td>Notebook</td>\n",
       "      <td>15.6</td>\n",
       "      <td>1366x768</td>\n",
       "      <td>Intel Pentium Quad Core N4200 1.1GHz</td>\n",
       "      <td>4GB</td>\n",
       "      <td>1TB HDD</td>\n",
       "      <td>Intel HD Graphics 505</td>\n",
       "      <td>Windows 10</td>\n",
       "      <td>2kg</td>\n",
       "      <td>449.00</td>\n",
       "    </tr>\n",
       "    <tr>\n",
       "      <th>2</th>\n",
       "      <td>353</td>\n",
       "      <td>966</td>\n",
       "      <td>Toshiba</td>\n",
       "      <td>Portege Z30-C-1CW</td>\n",
       "      <td>Notebook</td>\n",
       "      <td>13.3</td>\n",
       "      <td>Full HD 1920x1080</td>\n",
       "      <td>Intel Core i5 6200U 2.3GHz</td>\n",
       "      <td>8GB</td>\n",
       "      <td>256GB SSD</td>\n",
       "      <td>Intel HD Graphics 520</td>\n",
       "      <td>Windows 7</td>\n",
       "      <td>1.2kg</td>\n",
       "      <td>1460.00</td>\n",
       "    </tr>\n",
       "    <tr>\n",
       "      <th>3</th>\n",
       "      <td>578</td>\n",
       "      <td>767</td>\n",
       "      <td>Dell</td>\n",
       "      <td>Alienware 17</td>\n",
       "      <td>Gaming</td>\n",
       "      <td>15.6</td>\n",
       "      <td>IPS Panel 4K Ultra HD 3840x2160</td>\n",
       "      <td>Intel Core i7 7700HQ 2.8GHz</td>\n",
       "      <td>16GB</td>\n",
       "      <td>256GB SSD +  1TB HDD</td>\n",
       "      <td>Nvidia GeForce GTX 1070</td>\n",
       "      <td>Windows 10</td>\n",
       "      <td>4.42kg</td>\n",
       "      <td>2868.99</td>\n",
       "    </tr>\n",
       "    <tr>\n",
       "      <th>4</th>\n",
       "      <td>42</td>\n",
       "      <td>1241</td>\n",
       "      <td>Dell</td>\n",
       "      <td>Latitude E7270</td>\n",
       "      <td>Ultrabook</td>\n",
       "      <td>12.5</td>\n",
       "      <td>Full HD / Touchscreen 1920x1080</td>\n",
       "      <td>Intel Core i5 6300U 2.4GHz</td>\n",
       "      <td>8GB</td>\n",
       "      <td>256GB SSD</td>\n",
       "      <td>Intel HD Graphics 520</td>\n",
       "      <td>Windows 7</td>\n",
       "      <td>1.26kg</td>\n",
       "      <td>1713.37</td>\n",
       "    </tr>\n",
       "  </tbody>\n",
       "</table>\n",
       "</div>"
      ],
      "text/plain": [
       "    id  laptop_ID  Company                     Product   TypeName  Inches  \\\n",
       "0  268       1002     Dell               Inspiron 5567   Notebook    15.6   \n",
       "1  347        867     Asus  X541NA (N4200/4GB/1TB/W10)   Notebook    15.6   \n",
       "2  353        966  Toshiba           Portege Z30-C-1CW   Notebook    13.3   \n",
       "3  578        767     Dell                Alienware 17     Gaming    15.6   \n",
       "4   42       1241     Dell              Latitude E7270  Ultrabook    12.5   \n",
       "\n",
       "                  ScreenResolution                                   Cpu  \\\n",
       "0                         1366x768            Intel Core i7 7500U 2.7GHz   \n",
       "1                         1366x768  Intel Pentium Quad Core N4200 1.1GHz   \n",
       "2                Full HD 1920x1080            Intel Core i5 6200U 2.3GHz   \n",
       "3  IPS Panel 4K Ultra HD 3840x2160           Intel Core i7 7700HQ 2.8GHz   \n",
       "4  Full HD / Touchscreen 1920x1080            Intel Core i5 6300U 2.4GHz   \n",
       "\n",
       "    Ram                Memory                      Gpu       OpSys  Weight  \\\n",
       "0   8GB               1TB HDD       AMD Radeon R7 M445  Windows 10  2.36kg   \n",
       "1   4GB               1TB HDD    Intel HD Graphics 505  Windows 10     2kg   \n",
       "2   8GB             256GB SSD    Intel HD Graphics 520   Windows 7   1.2kg   \n",
       "3  16GB  256GB SSD +  1TB HDD  Nvidia GeForce GTX 1070  Windows 10  4.42kg   \n",
       "4   8GB             256GB SSD    Intel HD Graphics 520   Windows 7  1.26kg   \n",
       "\n",
       "   Price_euros  \n",
       "0       749.00  \n",
       "1       449.00  \n",
       "2      1460.00  \n",
       "3      2868.99  \n",
       "4      1713.37  "
      ]
     },
     "execution_count": 61,
     "metadata": {},
     "output_type": "execute_result"
    }
   ],
   "source": [
    "df_train.head ()"
   ]
  },
  {
   "cell_type": "markdown",
   "metadata": {},
   "source": [
    "## Data processing"
   ]
  },
  {
   "cell_type": "markdown",
   "metadata": {},
   "source": []
  },
  {
   "cell_type": "code",
   "execution_count": 62,
   "metadata": {},
   "outputs": [
    {
     "name": "stdout",
     "output_type": "stream",
     "text": [
      "Index(['id', 'laptop_ID', 'Company', 'Product', 'TypeName', 'Inches',\n",
      "       'ScreenResolution', 'Cpu', 'Ram', 'Memory', 'Gpu', 'OpSys', 'Weight'],\n",
      "      dtype='object')\n"
     ]
    }
   ],
   "source": [
    "print(df_test.columns)\n"
   ]
  },
  {
   "cell_type": "code",
   "execution_count": 63,
   "metadata": {},
   "outputs": [],
   "source": [
    "# Columna Cpu\n",
    "\n",
    "def extract_from_Cpu(train):\n",
    "    train[\"Vel\"] = train[\"Cpu\"].str.extract(r'(\\d+(?:\\.\\d+)?GHz)')\n",
    "    train[\"Vel\"] = train[\"Vel\"].str.replace('GHz','')\n",
    "    train[\"Vel\"] = train[\"Vel\"].astype(float)\n",
    "    train[\"Cpu\"] = train[\"Cpu\"].str.replace(r'(\\d+(?:\\.\\d+)?GHz)','',regex =True)\n",
    "    \n",
    "\n",
    "extract_from_Cpu (df_test)\n",
    "extract_from_Cpu (df_train)\n"
   ]
  },
  {
   "cell_type": "code",
   "execution_count": 64,
   "metadata": {},
   "outputs": [
    {
     "name": "stderr",
     "output_type": "stream",
     "text": [
      "C:\\Users\\pobla\\AppData\\Local\\Temp\\ipykernel_25076\\1194225786.py:9: FutureWarning: Downcasting behavior in `replace` is deprecated and will be removed in a future version. To retain the old behavior, explicitly call `result.infer_objects(copy=False)`. To opt-in to the future behavior, set `pd.set_option('future.no_silent_downcasting', True)`\n",
      "  train['tactil'] = train['tactil'].replace('Touchscreen', 1)\n",
      "C:\\Users\\pobla\\AppData\\Local\\Temp\\ipykernel_25076\\1194225786.py:9: FutureWarning: Downcasting behavior in `replace` is deprecated and will be removed in a future version. To retain the old behavior, explicitly call `result.infer_objects(copy=False)`. To opt-in to the future behavior, set `pd.set_option('future.no_silent_downcasting', True)`\n",
      "  train['tactil'] = train['tactil'].replace('Touchscreen', 1)\n"
     ]
    }
   ],
   "source": [
    "# Columna ScreenResolution\n",
    "def extract_screen_features(train):\n",
    "    #train = train.rename(columns = str.lower)\n",
    "    train[\"resolucion\"] = train['ScreenResolution'].str.extract(r'(\\d+x\\d+)')\n",
    "    train[\"pantalla\"]= train['ScreenResolution'].replace(r'(\\d+x\\d+)','', regex = True)\n",
    "    train['pantalla'] = train['pantalla'].replace(r'(Full HD|Quad HD|Quad HD|\\+|/|4K Ultra HD)','', regex = True)\n",
    "    train['tactil'] = train['pantalla'].str.extract(r'(Touchscreen)')\n",
    "    train['pantalla'] = train['pantalla'].replace(r'(Touchscreen)','', regex = True)\n",
    "    train['tactil'] = train['tactil'].replace('Touchscreen', 1)\n",
    "    train['tactil'] = train['tactil'].replace(np.nan, 0)\n",
    "    train['pantalla'] = train['pantalla'].replace(r' ','', regex = True)\n",
    "    train['pantalla'] = train['pantalla'].replace(r'^\\s*$', np.nan, regex = True)\n",
    "    train = train.drop(\"ScreenResolution\",axis = 1)\n",
    "    \n",
    "\n",
    "extract_screen_features (df_test)\n",
    "extract_screen_features (df_train)"
   ]
  },
  {
   "cell_type": "code",
   "execution_count": 65,
   "metadata": {},
   "outputs": [],
   "source": [
    "def process_ram_column(dataframe):\n",
    "    dataframe['Ram'] = dataframe['Ram'].str.replace('GB', '').astype(float)\n",
    "    \n",
    "process_ram_column (df_train)\n",
    "process_ram_column (df_test)"
   ]
  },
  {
   "cell_type": "code",
   "execution_count": 66,
   "metadata": {},
   "outputs": [],
   "source": [
    "def extract_from_storage(train):\n",
    "    train['almacenamiento1'] = train['Memory']\n",
    "    train['almacenamiento1'] = train['almacenamiento1'].str.replace('1.0TB','1TB', regex = True)\n",
    "    train['almacenamiento1'] = train['almacenamiento1'].str.replace('1TB','1000GB')\n",
    "    train['almacenamiento1'] = train['almacenamiento1'].str.replace('2TB','2000GB')\n",
    "    train['almacenamiento1'] = train['almacenamiento1'].str.replace('GB','')\n",
    "    train['almacenamiento2'] = train['almacenamiento1'].str.replace(r' ','')\n",
    "    almacenamiento1 = []\n",
    "    almacenamiento2 = []\n",
    "    for i in train['almacenamiento2']:\n",
    "        if len(re.findall(r'\\+', i)) == 1: \n",
    "            # Double drive\n",
    "            one = re.findall(r'(\\w+)', i)\n",
    "            almacenamiento1.append(one[0])\n",
    "            almacenamiento2.append(one[1])\n",
    "        else: \n",
    "            # Single drive\n",
    "            one = re.findall(r'(\\w+)', i)\n",
    "            almacenamiento1.append(one[0])\n",
    "            almacenamiento2.append('NaN')\n",
    "\n",
    "\n",
    "    #extracting size and type of primary Memory\n",
    "    storage1size = []\n",
    "    storage1type = []\n",
    "    for i in almacenamiento1:\n",
    "        storage1type.append(re.findall(r'(\\D\\w+)', i)[0])\n",
    "        storage1size.append(re.findall(r'(\\d+)', i)[0])\n",
    "\n",
    "\n",
    "    #extracting size and type of secondary Memory\n",
    "    storage2size = []\n",
    "    storage2type = []\n",
    "    for i in almacenamiento2:\n",
    "        if i != 'NaN':\n",
    "            storage2type.append(re.findall(r'(\\D\\w+)',i)[0])\n",
    "            storage2size.append(re.findall(r'(\\d+)',i)[0])\n",
    "        else:\n",
    "            storage2type.append('NaN')\n",
    "            storage2size.append(0)\n",
    "    train['primarystorage_size'] = storage1size\n",
    "    train['primarystorage_type'] = storage1type\n",
    "    train['secondarystorage_size'] = storage2size\n",
    "    train['secondarystorage_type'] = storage2type\n",
    "    \n",
    "    train[\"primarystorage_size\"] = train[\"primarystorage_size\"].astype(float)\n",
    "    train[\"secondarystorage_size\"] = train[\"secondarystorage_size\"].astype(float)\n",
    "    train = train.drop(['almacenamiento1','almacenamiento2','Memory'], axis = 1)\n",
    "    train = train.replace({'NaN' : np.nan})\n",
    "    \n",
    "\n",
    "\n",
    "extract_from_storage (df_train)\n",
    "extract_from_storage (df_test)"
   ]
  },
  {
   "cell_type": "code",
   "execution_count": 67,
   "metadata": {},
   "outputs": [
    {
     "data": {
      "text/plain": [
       "Weight\n",
       "2.2kg     35\n",
       "2.1kg     18\n",
       "2.5kg     14\n",
       "2.4kg     13\n",
       "2.8kg     13\n",
       "          ..\n",
       "2.33kg     1\n",
       "2.65kg     1\n",
       "1.22kg     1\n",
       "3.25kg     1\n",
       "1.23kg     1\n",
       "Name: count, Length: 125, dtype: int64"
      ]
     },
     "execution_count": 67,
     "metadata": {},
     "output_type": "execute_result"
    }
   ],
   "source": [
    "df_test ['Weight'].value_counts ()"
   ]
  },
  {
   "cell_type": "code",
   "execution_count": 68,
   "metadata": {},
   "outputs": [],
   "source": [
    "def clean_weight(train):\n",
    "    train['Peso'] = train['Weight'].str.replace('kg','')\n",
    "    #train['Peso'] = train['Weight'].str.replace('s', '').astype(float)\n",
    "    \n",
    "clean_weight (df_train)\n",
    "clean_weight (df_test)"
   ]
  },
  {
   "cell_type": "code",
   "execution_count": 69,
   "metadata": {},
   "outputs": [],
   "source": [
    "def manufacturer(train):\n",
    "    train['cpu_manftr'] = train['Cpu'].str.extract(r'^(\\w+)') \n",
    "    train['gpu_manftr'] = train['Gpu'].str.extract(r'^(\\w+)') \n",
    "    \n",
    "\n",
    "manufacturer (df_test)\n",
    "manufacturer (df_train)"
   ]
  },
  {
   "cell_type": "code",
   "execution_count": 70,
   "metadata": {},
   "outputs": [
    {
     "data": {
      "text/plain": [
       "Index(['id', 'laptop_ID', 'Company', 'Product', 'TypeName', 'Inches',\n",
       "       'ScreenResolution', 'Cpu', 'Ram', 'Memory', 'Gpu', 'OpSys', 'Weight',\n",
       "       'Vel', 'resolucion', 'pantalla', 'tactil', 'almacenamiento1',\n",
       "       'almacenamiento2', 'primarystorage_size', 'primarystorage_type',\n",
       "       'secondarystorage_size', 'secondarystorage_type', 'Peso', 'cpu_manftr',\n",
       "       'gpu_manftr'],\n",
       "      dtype='object')"
      ]
     },
     "execution_count": 70,
     "metadata": {},
     "output_type": "execute_result"
    }
   ],
   "source": [
    "df_test.columns"
   ]
  },
  {
   "cell_type": "code",
   "execution_count": 75,
   "metadata": {},
   "outputs": [
    {
     "data": {
      "text/html": [
       "<div>\n",
       "<style scoped>\n",
       "    .dataframe tbody tr th:only-of-type {\n",
       "        vertical-align: middle;\n",
       "    }\n",
       "\n",
       "    .dataframe tbody tr th {\n",
       "        vertical-align: top;\n",
       "    }\n",
       "\n",
       "    .dataframe thead th {\n",
       "        text-align: right;\n",
       "    }\n",
       "</style>\n",
       "<table border=\"1\" class=\"dataframe\">\n",
       "  <thead>\n",
       "    <tr style=\"text-align: right;\">\n",
       "      <th></th>\n",
       "      <th>id</th>\n",
       "      <th>laptop_ID</th>\n",
       "      <th>Company</th>\n",
       "      <th>Product</th>\n",
       "      <th>TypeName</th>\n",
       "      <th>Inches</th>\n",
       "      <th>ScreenResolution</th>\n",
       "      <th>Cpu</th>\n",
       "      <th>Ram</th>\n",
       "      <th>Memory</th>\n",
       "      <th>...</th>\n",
       "      <th>tactil</th>\n",
       "      <th>almacenamiento1</th>\n",
       "      <th>almacenamiento2</th>\n",
       "      <th>primarystorage_size</th>\n",
       "      <th>primarystorage_type</th>\n",
       "      <th>secondarystorage_size</th>\n",
       "      <th>secondarystorage_type</th>\n",
       "      <th>Peso</th>\n",
       "      <th>cpu_manftr</th>\n",
       "      <th>gpu_manftr</th>\n",
       "    </tr>\n",
       "  </thead>\n",
       "  <tbody>\n",
       "    <tr>\n",
       "      <th>0</th>\n",
       "      <td>268</td>\n",
       "      <td>1002</td>\n",
       "      <td>Dell</td>\n",
       "      <td>Inspiron 5567</td>\n",
       "      <td>Notebook</td>\n",
       "      <td>15.6</td>\n",
       "      <td>1366x768</td>\n",
       "      <td>Intel Core i7 7500U</td>\n",
       "      <td>8.0</td>\n",
       "      <td>1TB HDD</td>\n",
       "      <td>...</td>\n",
       "      <td>0.0</td>\n",
       "      <td>1000 HDD</td>\n",
       "      <td>1000HDD</td>\n",
       "      <td>1000.0</td>\n",
       "      <td>HDD</td>\n",
       "      <td>0.0</td>\n",
       "      <td>NaN</td>\n",
       "      <td>2.36</td>\n",
       "      <td>Intel</td>\n",
       "      <td>AMD</td>\n",
       "    </tr>\n",
       "    <tr>\n",
       "      <th>1</th>\n",
       "      <td>347</td>\n",
       "      <td>867</td>\n",
       "      <td>Asus</td>\n",
       "      <td>X541NA (N4200/4GB/1TB/W10)</td>\n",
       "      <td>Notebook</td>\n",
       "      <td>15.6</td>\n",
       "      <td>1366x768</td>\n",
       "      <td>Intel Pentium Quad Core N4200</td>\n",
       "      <td>4.0</td>\n",
       "      <td>1TB HDD</td>\n",
       "      <td>...</td>\n",
       "      <td>0.0</td>\n",
       "      <td>1000 HDD</td>\n",
       "      <td>1000HDD</td>\n",
       "      <td>1000.0</td>\n",
       "      <td>HDD</td>\n",
       "      <td>0.0</td>\n",
       "      <td>NaN</td>\n",
       "      <td>2</td>\n",
       "      <td>Intel</td>\n",
       "      <td>Intel</td>\n",
       "    </tr>\n",
       "    <tr>\n",
       "      <th>2</th>\n",
       "      <td>353</td>\n",
       "      <td>966</td>\n",
       "      <td>Toshiba</td>\n",
       "      <td>Portege Z30-C-1CW</td>\n",
       "      <td>Notebook</td>\n",
       "      <td>13.3</td>\n",
       "      <td>Full HD 1920x1080</td>\n",
       "      <td>Intel Core i5 6200U</td>\n",
       "      <td>8.0</td>\n",
       "      <td>256GB SSD</td>\n",
       "      <td>...</td>\n",
       "      <td>0.0</td>\n",
       "      <td>256 SSD</td>\n",
       "      <td>256SSD</td>\n",
       "      <td>256.0</td>\n",
       "      <td>SSD</td>\n",
       "      <td>0.0</td>\n",
       "      <td>NaN</td>\n",
       "      <td>1.2</td>\n",
       "      <td>Intel</td>\n",
       "      <td>Intel</td>\n",
       "    </tr>\n",
       "    <tr>\n",
       "      <th>3</th>\n",
       "      <td>578</td>\n",
       "      <td>767</td>\n",
       "      <td>Dell</td>\n",
       "      <td>Alienware 17</td>\n",
       "      <td>Gaming</td>\n",
       "      <td>15.6</td>\n",
       "      <td>IPS Panel 4K Ultra HD 3840x2160</td>\n",
       "      <td>Intel Core i7 7700HQ</td>\n",
       "      <td>16.0</td>\n",
       "      <td>256GB SSD +  1TB HDD</td>\n",
       "      <td>...</td>\n",
       "      <td>0.0</td>\n",
       "      <td>256 SSD +  1000 HDD</td>\n",
       "      <td>256SSD+1000HDD</td>\n",
       "      <td>256.0</td>\n",
       "      <td>SSD</td>\n",
       "      <td>1000.0</td>\n",
       "      <td>HDD</td>\n",
       "      <td>4.42</td>\n",
       "      <td>Intel</td>\n",
       "      <td>Nvidia</td>\n",
       "    </tr>\n",
       "    <tr>\n",
       "      <th>4</th>\n",
       "      <td>42</td>\n",
       "      <td>1241</td>\n",
       "      <td>Dell</td>\n",
       "      <td>Latitude E7270</td>\n",
       "      <td>Ultrabook</td>\n",
       "      <td>12.5</td>\n",
       "      <td>Full HD / Touchscreen 1920x1080</td>\n",
       "      <td>Intel Core i5 6300U</td>\n",
       "      <td>8.0</td>\n",
       "      <td>256GB SSD</td>\n",
       "      <td>...</td>\n",
       "      <td>1.0</td>\n",
       "      <td>256 SSD</td>\n",
       "      <td>256SSD</td>\n",
       "      <td>256.0</td>\n",
       "      <td>SSD</td>\n",
       "      <td>0.0</td>\n",
       "      <td>NaN</td>\n",
       "      <td>1.26</td>\n",
       "      <td>Intel</td>\n",
       "      <td>Intel</td>\n",
       "    </tr>\n",
       "  </tbody>\n",
       "</table>\n",
       "<p>5 rows × 27 columns</p>\n",
       "</div>"
      ],
      "text/plain": [
       "    id  laptop_ID  Company                     Product   TypeName  Inches  \\\n",
       "0  268       1002     Dell               Inspiron 5567   Notebook    15.6   \n",
       "1  347        867     Asus  X541NA (N4200/4GB/1TB/W10)   Notebook    15.6   \n",
       "2  353        966  Toshiba           Portege Z30-C-1CW   Notebook    13.3   \n",
       "3  578        767     Dell                Alienware 17     Gaming    15.6   \n",
       "4   42       1241     Dell              Latitude E7270  Ultrabook    12.5   \n",
       "\n",
       "                  ScreenResolution                             Cpu   Ram  \\\n",
       "0                         1366x768            Intel Core i7 7500U    8.0   \n",
       "1                         1366x768  Intel Pentium Quad Core N4200    4.0   \n",
       "2                Full HD 1920x1080            Intel Core i5 6200U    8.0   \n",
       "3  IPS Panel 4K Ultra HD 3840x2160           Intel Core i7 7700HQ   16.0   \n",
       "4  Full HD / Touchscreen 1920x1080            Intel Core i5 6300U    8.0   \n",
       "\n",
       "                 Memory  ... tactil      almacenamiento1 almacenamiento2  \\\n",
       "0               1TB HDD  ...    0.0             1000 HDD         1000HDD   \n",
       "1               1TB HDD  ...    0.0             1000 HDD         1000HDD   \n",
       "2             256GB SSD  ...    0.0              256 SSD          256SSD   \n",
       "3  256GB SSD +  1TB HDD  ...    0.0  256 SSD +  1000 HDD  256SSD+1000HDD   \n",
       "4             256GB SSD  ...    1.0              256 SSD          256SSD   \n",
       "\n",
       "   primarystorage_size  primarystorage_type secondarystorage_size  \\\n",
       "0               1000.0                  HDD                   0.0   \n",
       "1               1000.0                  HDD                   0.0   \n",
       "2                256.0                  SSD                   0.0   \n",
       "3                256.0                  SSD                1000.0   \n",
       "4                256.0                  SSD                   0.0   \n",
       "\n",
       "  secondarystorage_type  Peso cpu_manftr gpu_manftr  \n",
       "0                   NaN  2.36      Intel        AMD  \n",
       "1                   NaN     2      Intel      Intel  \n",
       "2                   NaN   1.2      Intel      Intel  \n",
       "3                   HDD  4.42      Intel     Nvidia  \n",
       "4                   NaN  1.26      Intel      Intel  \n",
       "\n",
       "[5 rows x 27 columns]"
      ]
     },
     "execution_count": 75,
     "metadata": {},
     "output_type": "execute_result"
    }
   ],
   "source": [
    "df_train.head ()"
   ]
  },
  {
   "cell_type": "code",
   "execution_count": null,
   "metadata": {},
   "outputs": [],
   "source": []
  },
  {
   "cell_type": "markdown",
   "metadata": {},
   "source": [
    "-----------------------------------------------------------------------------------------------------------------"
   ]
  },
  {
   "cell_type": "markdown",
   "metadata": {},
   "source": [
    "## Pasos que si o si debéis realizar para poder participar en la competición:"
   ]
  },
  {
   "cell_type": "markdown",
   "metadata": {},
   "source": [
    "### 1. Definir X e y"
   ]
  },
  {
   "cell_type": "code",
   "execution_count": null,
   "metadata": {},
   "outputs": [],
   "source": []
  },
  {
   "cell_type": "code",
   "execution_count": null,
   "metadata": {},
   "outputs": [],
   "source": []
  },
  {
   "cell_type": "markdown",
   "metadata": {},
   "source": [
    "### 2. Dividir X_train, X_test, y_train, y_test"
   ]
  },
  {
   "cell_type": "code",
   "execution_count": null,
   "metadata": {},
   "outputs": [],
   "source": []
  },
  {
   "cell_type": "markdown",
   "metadata": {},
   "source": [
    "### 3. Crear y entrenar el modelo\n"
   ]
  },
  {
   "cell_type": "code",
   "execution_count": null,
   "metadata": {},
   "outputs": [],
   "source": []
  },
  {
   "cell_type": "markdown",
   "metadata": {},
   "source": [
    "### 4. Sacar métricas, valorar el modelo \n",
    "\n",
    "Recuerda que en la competición se va a evaluar con la métrica de MAE."
   ]
  },
  {
   "cell_type": "code",
   "execution_count": null,
   "metadata": {},
   "outputs": [],
   "source": []
  },
  {
   "cell_type": "code",
   "execution_count": null,
   "metadata": {},
   "outputs": [],
   "source": []
  },
  {
   "cell_type": "markdown",
   "metadata": {},
   "source": [
    "-----------------------------------------------------------------"
   ]
  },
  {
   "cell_type": "markdown",
   "metadata": {},
   "source": [
    "## Una vez listo el modelo, toca predecir con el dataset de predicción "
   ]
  },
  {
   "cell_type": "markdown",
   "metadata": {},
   "source": [
    "Definición de **modelo que está listo**. \n",
    "\n",
    "Tras hacer suficientes pruebas, analizar los datos, hacer feature engineering, probar diferentes modelos con diferentes parámetros, es con este con el que observo mejores métricas y menos overfitting. ¡Cuidado con el overfitting aquí! Si vuestro modelo aprende muy bien de estos datos pero hay overfitting cuando le pasemos los datos desconocidos de `test.csv` nos arriesgamos a que digamos, no salga lo esperado."
   ]
  },
  {
   "cell_type": "markdown",
   "metadata": {},
   "source": [
    "### 1. Entrena dicho modelo con TODOS tus datos de train, esto es con `train.csv` al completo.\n",
    "\n",
    "\n",
    "**CON LAS TRANSFORMACIONES QUE LE HAYAS REALIZADO A `X` INCLUÍDAS.**\n",
    "\n",
    "\n",
    "Véase:\n",
    "- Estandarización/Normalización\n",
    "- Eliminación de Outliers\n",
    "- Eliminación de columnas\n",
    "- Creación de columnas nuevas\n",
    "- Gestión de valores nulos\n",
    "- Y un largo etcétera de técnicas que como Data Scientist hayas considerado las mejores para tu dataset."
   ]
  },
  {
   "cell_type": "code",
   "execution_count": null,
   "metadata": {},
   "outputs": [],
   "source": []
  },
  {
   "cell_type": "markdown",
   "metadata": {},
   "source": [
    "### 2. Carga los datos de `test.csv` para predecir."
   ]
  },
  {
   "cell_type": "code",
   "execution_count": null,
   "metadata": {},
   "outputs": [],
   "source": []
  },
  {
   "cell_type": "markdown",
   "metadata": {},
   "source": [
    "**¿Por qué puede dar error?** "
   ]
  },
  {
   "cell_type": "markdown",
   "metadata": {},
   "source": [
    "IMPORTANTE: APLICAR A ESTOS DATOS LO MISMO QUE HAYÁIS APLICADO A LOS DATOS DE ENTRENAMIENTO\n",
    "\n",
    "- SI EL ARRAY CON EL QUE HICISTEIS `.fit()` ERA DE 4 COLUMNAS, PARA `.predict()` DEBEN SER LAS MISMAS\n",
    "- SI AL ARRAY CON EL QUE HICISTEIS `.fit()` LO NORMALIZASTEIS, PARA `.predict()` DEBÉIS NORMALIZARLO\n",
    "- TODO IGUAL SALVO BORRAR FILAS, EL NÚMERO DE ROWS SE DEBE MANTENER EN ESTE SET, PUES LA PREDICCIÓN DEBE TENER 391 FILAS, SI O SI"
   ]
  },
  {
   "cell_type": "markdown",
   "metadata": {},
   "source": [
    "**Entonces, si al cargar los datos de train usé `index_col=0` para que utilizara la primera columna del conjunto de datos como índice, ¿tendré que hacerlo también para el conjunto `test.csv`?**"
   ]
  },
  {
   "cell_type": "code",
   "execution_count": 72,
   "metadata": {},
   "outputs": [],
   "source": [
    "# ¿Qué opináis?\n",
    "# Sí"
   ]
  },
  {
   "cell_type": "markdown",
   "metadata": {},
   "source": [
    "![](https://www.tierraljelechu.com/web/img/wiki_up/1.996-SorpresaDto.-1-Red.jpg)"
   ]
  },
  {
   "cell_type": "code",
   "execution_count": null,
   "metadata": {},
   "outputs": [],
   "source": []
  },
  {
   "cell_type": "markdown",
   "metadata": {},
   "source": [
    "### 3. AHORA puedo hacer la predicción que será lo que subirás a Kaggle. "
   ]
  },
  {
   "cell_type": "markdown",
   "metadata": {},
   "source": [
    "**¿Qué es lo que subirás a Kaggle?**"
   ]
  },
  {
   "cell_type": "code",
   "execution_count": 73,
   "metadata": {},
   "outputs": [
    {
     "ename": "NameError",
     "evalue": "name 'model' is not defined",
     "output_type": "error",
     "traceback": [
      "\u001b[1;31m---------------------------------------------------------------------------\u001b[0m",
      "\u001b[1;31mNameError\u001b[0m                                 Traceback (most recent call last)",
      "Cell \u001b[1;32mIn[73], line 1\u001b[0m\n\u001b[1;32m----> 1\u001b[0m predictions \u001b[38;5;241m=\u001b[39m \u001b[43mmodel\u001b[49m\u001b[38;5;241m.\u001b[39mpredict(X_pred)\n\u001b[0;32m      2\u001b[0m predictions\n",
      "\u001b[1;31mNameError\u001b[0m: name 'model' is not defined"
     ]
    }
   ],
   "source": [
    "predictions = model.predict(X_pred)\n",
    "predictions"
   ]
  },
  {
   "cell_type": "markdown",
   "metadata": {},
   "source": [
    "**¡PERO! Para subir a Kaggle la predicción, ésta tendrá que tener una forma específica y no valdrá otra.**\n",
    "\n",
    "En este caso, la **MISMA** forma que `sample_submission.csv`. "
   ]
  },
  {
   "cell_type": "code",
   "execution_count": null,
   "metadata": {},
   "outputs": [],
   "source": [
    "sample = pd.read_csv(\"Dataset/sample_submission.csv\") # Esta es mi ruta del archivo, la vuestra puede ser otra"
   ]
  },
  {
   "cell_type": "code",
   "execution_count": null,
   "metadata": {},
   "outputs": [],
   "source": [
    "sample.head()"
   ]
  },
  {
   "cell_type": "code",
   "execution_count": null,
   "metadata": {},
   "outputs": [],
   "source": [
    "sample.shape"
   ]
  },
  {
   "cell_type": "markdown",
   "metadata": {},
   "source": [
    "### 4. Mete tus predicciones en un dataframe. \n",
    "\n",
    "En este caso, la **MISMA** forma que `sample_submission.csv`. "
   ]
  },
  {
   "cell_type": "code",
   "execution_count": null,
   "metadata": {},
   "outputs": [],
   "source": []
  },
  {
   "cell_type": "markdown",
   "metadata": {},
   "source": [
    "### 5. Pásale el CHEQUEATOR para comprobar que efectivamente está listo para subir a Kaggle."
   ]
  },
  {
   "cell_type": "code",
   "execution_count": null,
   "metadata": {},
   "outputs": [],
   "source": [
    "def chequeator(df_to_submit):\n",
    "    \"\"\"\n",
    "    Esta función se asegura de que tu submission tenga la forma requerida por Kaggle.\n",
    "    \n",
    "    Si es así, se guardará el dataframe en un `csv` y estará listo para subir a Kaggle.\n",
    "    \n",
    "    Si no, LEE EL MENSAJE Y HAZLE CASO.\n",
    "    \n",
    "    Si aún no:\n",
    "    - apaga tu ordenador, \n",
    "    - date una vuelta, \n",
    "    - enciendelo otra vez, \n",
    "    - abre este notebook y \n",
    "    - leelo todo de nuevo. \n",
    "    Todos nos merecemos una segunda oportunidad. También tú.\n",
    "    \"\"\"\n",
    "    if df_to_submit.shape == sample.shape:\n",
    "        if df_to_submit.columns.all() == sample.columns.all():\n",
    "            if df_to_submit.id.all() == sample.id.all():\n",
    "                print(\"You're ready to submit!\")\n",
    "                submission.to_csv(\"submission.csv\", index = False) #muy importante el index = False\n",
    "                urllib.request.urlretrieve(\"https://i.kym-cdn.com/photos/images/facebook/000/747/556/27a.jpg\", \"gfg.png\")     \n",
    "                img = Image.open(\"gfg.png\")\n",
    "                img.show()   \n",
    "            else:\n",
    "                print(\"Check the ids and try again\")\n",
    "        else:\n",
    "            print(\"Check the names of the columns and try again\")\n",
    "    else:\n",
    "        print(\"Check the number of rows and/or columns and try again\")\n",
    "        print(\"\")\n"
   ]
  },
  {
   "cell_type": "code",
   "execution_count": null,
   "metadata": {},
   "outputs": [
    {
     "name": "stdout",
     "output_type": "stream",
     "text": [
      "You're ready to submit!\n"
     ]
    }
   ],
   "source": [
    "chequeator(submission) # submission es el nombre que le habríamos puesto a nuestro .csv con los valores que me salieron en la predicción"
   ]
  },
  {
   "cell_type": "code",
   "execution_count": null,
   "metadata": {},
   "outputs": [],
   "source": []
  }
 ],
 "metadata": {
  "kernelspec": {
   "display_name": "Python 3.7.4 64-bit",
   "language": "python",
   "name": "python3"
  },
  "language_info": {
   "codemirror_mode": {
    "name": "ipython",
    "version": 3
   },
   "file_extension": ".py",
   "mimetype": "text/x-python",
   "name": "python",
   "nbconvert_exporter": "python",
   "pygments_lexer": "ipython3",
   "version": "3.10.11"
  },
  "vscode": {
   "interpreter": {
    "hash": "c0e4a4af33acb5d51fe8962d9e2e7588108ae49a894b6d1e35c2101e79360239"
   }
  }
 },
 "nbformat": 4,
 "nbformat_minor": 4
}
