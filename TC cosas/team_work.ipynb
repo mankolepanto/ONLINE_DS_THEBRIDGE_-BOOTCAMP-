{
 "cells": [
  {
   "cell_type": "code",
   "execution_count": 4,
   "metadata": {},
   "outputs": [
    {
     "data": {
      "text/plain": [
       "<sqlite3.Cursor at 0x1bc9d8a4740>"
      ]
     },
     "execution_count": 4,
     "metadata": {},
     "output_type": "execute_result"
    }
   ],
   "source": [
    "import sqlite3\n",
    "import pandas as pd\n",
    "# Conectarse a la base de datos (si no existe, se creará)\n",
    "conn = sqlite3.connect('mi_base_de_datos.sqlite')\n",
    "\n",
    "# Crear un cursor para ejecutar consultas SQL\n",
    "cursor = conn.cursor()\n",
    "\n",
    "# Crear la tabla Parque_atracciones\n",
    "cursor.execute('''CREATE TABLE IF NOT EXISTS Parque_atracciones (\n",
    "                    Nombre TEXT,\n",
    "                    Direccion TEXT,\n",
    "                    Ciudad TEXT,\n",
    "                    Provincia TEXT,\n",
    "                    Aforo INTEGER,\n",
    "                    Codigo TEXT PRIMARY KEY\n",
    "                )''')\n",
    "\n",
    "# Insertar datos en la tabla Parque_atracciones (uso de INSERT OR IGNORE)\n",
    "cursor.execute('''INSERT OR IGNORE INTO Parque_atracciones \n",
    "                  VALUES ('Port Aventura', 'Calle', 'Salou', 'Tarragona', 51000, '01')''')\n",
    "\n",
    "# Crear la tabla Atracciones\n",
    "cursor.execute('''CREATE TABLE IF NOT EXISTS Atracciones (\n",
    "                    Nombre TEXT,\n",
    "                    Tipo TEXT,\n",
    "                    Duracion INTEGER,\n",
    "                    Categoria_edad TEXT,\n",
    "                    Longitud_Atraccion REAL,\n",
    "                    Altura_Minima INTEGER,\n",
    "                    codigo_atraccion TEXT PRIMARY KEY,\n",
    "                    codigo_parque TEXT,\n",
    "                    FOREIGN KEY (codigo_parque) REFERENCES Parque_atracciones(Codigo)\n",
    "                )''')\n",
    "\n",
    "# Crear la tabla Zonas\n",
    "cursor.execute('''CREATE TABLE IF NOT EXISTS Zonas (\n",
    "                    Codigo_Zona TEXT PRIMARY KEY,\n",
    "                    Ambientacion TEXT,\n",
    "                    Platos_Tipicos TEXT,\n",
    "                    Espectaculos TEXT,\n",
    "                    Horario TEXT,\n",
    "                    Afluencia_Media INTEGER\n",
    "                )''')\n",
    "\n",
    "# Crear la tabla Alojamiento\n",
    "cursor.execute('''CREATE TABLE IF NOT EXISTS Alojamiento (\n",
    "                    Nombre TEXT,\n",
    "                    Precio REAL,\n",
    "                    Categoria TEXT,\n",
    "                    Servicios TEXT,\n",
    "                    Ambientacion TEXT\n",
    "                )''')\n",
    "\n",
    "# Guardar los cambios y cerrar la conexión\n",
    "#conn.commit()\n",
    "#conn.close()\n",
    "#cursor.close()\n"
   ]
  },
  {
   "cell_type": "code",
   "execution_count": 5,
   "metadata": {},
   "outputs": [
    {
     "name": "stdout",
     "output_type": "stream",
     "text": [
      "          Nombre Direccion Ciudad  Provincia  Aforo Codigo\n",
      "0  Port Aventura     Calle  Salou  Tarragona  51000     01\n"
     ]
    }
   ],
   "source": [
    "df = pd.read_sql_query('SELECT * FROM Parque_atracciones', conn)\n",
    "\n",
    "print (df)"
   ]
  },
  {
   "cell_type": "code",
   "execution_count": null,
   "metadata": {},
   "outputs": [],
   "source": []
  }
 ],
 "metadata": {
  "kernelspec": {
   "display_name": "Python 3",
   "language": "python",
   "name": "python3"
  },
  "language_info": {
   "codemirror_mode": {
    "name": "ipython",
    "version": 3
   },
   "file_extension": ".py",
   "mimetype": "text/x-python",
   "name": "python",
   "nbconvert_exporter": "python",
   "pygments_lexer": "ipython3",
   "version": "3.10.11"
  }
 },
 "nbformat": 4,
 "nbformat_minor": 2
}
