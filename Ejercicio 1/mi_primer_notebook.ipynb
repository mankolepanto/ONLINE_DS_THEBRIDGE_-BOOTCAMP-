{
 "cells": [
  {
   "cell_type": "code",
   "execution_count": 1,
   "id": "0fee9578-c381-4573-b755-f5914f4945d8",
   "metadata": {},
   "outputs": [
    {
     "name": "stdout",
     "output_type": "stream",
     "text": [
      "Hola ko\n"
     ]
    }
   ],
   "source": [
    "print (\"Hola ko\")\n"
   ]
  },
  {
   "cell_type": "code",
   "execution_count": 2,
   "id": "bd796308-35f5-4454-bc87-9986c64f39c5",
   "metadata": {},
   "outputs": [
    {
     "name": "stdout",
     "output_type": "stream",
     "text": [
      "hola-\n"
     ]
    }
   ],
   "source": [
    "print (\"hola-\")"
   ]
  },
  {
   "cell_type": "code",
   "execution_count": null,
   "id": "ca23e216-480f-4344-9b4b-0fce85b66608",
   "metadata": {},
   "outputs": [],
   "source": []
  }
 ],
 "metadata": {
  "kernelspec": {
   "display_name": "Python 3 (ipykernel)",
   "language": "python",
   "name": "python3"
  },
  "language_info": {
   "codemirror_mode": {
    "name": "ipython",
    "version": 3
   },
   "file_extension": ".py",
   "mimetype": "text/x-python",
   "name": "python",
   "nbconvert_exporter": "python",
   "pygments_lexer": "ipython3",
   "version": "3.10.11"
  }
 },
 "nbformat": 4,
 "nbformat_minor": 5
}
